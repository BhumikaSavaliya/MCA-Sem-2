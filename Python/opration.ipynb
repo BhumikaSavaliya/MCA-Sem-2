{
 "cells": [
  {
   "cell_type": "code",
   "execution_count": 1,
   "id": "04255b7b",
   "metadata": {},
   "outputs": [
    {
     "name": "stdout",
     "output_type": "stream",
     "text": [
      "hello\n"
     ]
    }
   ],
   "source": [
    "print (\"hello\");\n"
   ]
  },
  {
   "cell_type": "code",
   "execution_count": null,
   "id": "9c21754b",
   "metadata": {},
   "outputs": [],
   "source": []
  },
  {
   "cell_type": "markdown",
   "id": "7ff1d8bc",
   "metadata": {},
   "source": []
  },
  {
   "cell_type": "code",
   "execution_count": 1,
   "id": "29ff54e0",
   "metadata": {},
   "outputs": [
    {
     "name": "stdout",
     "output_type": "stream",
     "text": [
      "HELLO WORD\n"
     ]
    }
   ],
   "source": [
    "gretting=(\"HELLO WORD\");\n",
    "print(gretting);"
   ]
  },
  {
   "cell_type": "code",
   "execution_count": 4,
   "id": "73d34ab1",
   "metadata": {},
   "outputs": [],
   "source": [
    "a=4.5\n",
    "a=a+5\n"
   ]
  },
  {
   "cell_type": "code",
   "execution_count": null,
   "id": "dc84677c",
   "metadata": {},
   "outputs": [],
   "source": []
  },
  {
   "cell_type": "code",
   "execution_count": 8,
   "id": "e6d2184b",
   "metadata": {},
   "outputs": [],
   "source": [
    "a=5\n",
    "a=a // 2"
   ]
  },
  {
   "cell_type": "code",
   "execution_count": 9,
   "id": "333ec101",
   "metadata": {},
   "outputs": [
    {
     "name": "stdout",
     "output_type": "stream",
     "text": [
      "hello word\n"
     ]
    }
   ],
   "source": [
    "print(\"hello word\");"
   ]
  },
  {
   "cell_type": "code",
   "execution_count": 11,
   "id": "adfb9737",
   "metadata": {},
   "outputs": [],
   "source": [
    "b= False - True"
   ]
  },
  {
   "cell_type": "code",
   "execution_count": 12,
   "id": "887dce65",
   "metadata": {},
   "outputs": [
    {
     "data": {
      "text/plain": [
       "True"
      ]
     },
     "execution_count": 12,
     "metadata": {},
     "output_type": "execute_result"
    }
   ],
   "source": [
    "True and True"
   ]
  },
  {
   "cell_type": "code",
   "execution_count": 16,
   "id": "665e0a36",
   "metadata": {},
   "outputs": [
    {
     "data": {
      "text/plain": [
       "8"
      ]
     },
     "execution_count": 16,
     "metadata": {},
     "output_type": "execute_result"
    }
   ],
   "source": [
    "# nagation\n",
    "c=True + 4\n",
    "c= c+ 3\n",
    "c"
   ]
  },
  {
   "cell_type": "code",
   "execution_count": 18,
   "id": "14acaccd",
   "metadata": {},
   "outputs": [
    {
     "data": {
      "text/plain": [
       "'gvpahemdabad'"
      ]
     },
     "execution_count": 18,
     "metadata": {},
     "output_type": "execute_result"
    }
   ],
   "source": [
    "'gvp' + \"ahemdabad\""
   ]
  },
  {
   "cell_type": "code",
   "execution_count": 22,
   "id": "2a532686",
   "metadata": {},
   "outputs": [],
   "source": [
    "k = 'jay hind' * 3"
   ]
  },
  {
   "cell_type": "code",
   "execution_count": 23,
   "id": "ff7b010d",
   "metadata": {},
   "outputs": [
    {
     "name": "stdout",
     "output_type": "stream",
     "text": [
      "i love my cuntry india\n"
     ]
    }
   ],
   "source": [
    "print (\"i love my cuntry india\")"
   ]
  },
  {
   "cell_type": "code",
   "execution_count": 25,
   "id": "974abaee",
   "metadata": {},
   "outputs": [
    {
     "name": "stdout",
     "output_type": "stream",
     "text": [
      "gujarat\n",
      "india\n"
     ]
    }
   ],
   "source": [
    "s = 'gujarat\\nindia'\n",
    "print(s)\n"
   ]
  },
  {
   "cell_type": "code",
   "execution_count": 26,
   "id": "2bf12055",
   "metadata": {},
   "outputs": [
    {
     "data": {
      "text/plain": [
       "'Guj'"
      ]
     },
     "execution_count": 26,
     "metadata": {},
     "output_type": "execute_result"
    }
   ],
   "source": [
    "un = 'Gujarat Vidyapith'\n",
    "un[0]\n",
    "un[0:3]"
   ]
  },
  {
   "cell_type": "code",
   "execution_count": 3,
   "id": "5738d183",
   "metadata": {},
   "outputs": [],
   "source": [
    "myvar=\"bhumi\""
   ]
  },
  {
   "cell_type": "code",
   "execution_count": 4,
   "id": "de5ccebb",
   "metadata": {},
   "outputs": [],
   "source": [
    "my_var=\"ruhi\""
   ]
  },
  {
   "cell_type": "code",
   "execution_count": 5,
   "id": "9cc9a83e",
   "metadata": {},
   "outputs": [],
   "source": [
    "_k=12"
   ]
  },
  {
   "cell_type": "code",
   "execution_count": 6,
   "id": "dd4c3478",
   "metadata": {
    "scrolled": true
   },
   "outputs": [
    {
     "ename": "SyntaxError",
     "evalue": "invalid syntax (<ipython-input-6-caec1dbbaa2f>, line 1)",
     "output_type": "error",
     "traceback": [
      "\u001b[1;36m  File \u001b[1;32m\"<ipython-input-6-caec1dbbaa2f>\"\u001b[1;36m, line \u001b[1;32m1\u001b[0m\n\u001b[1;33m    9f='9f'\u001b[0m\n\u001b[1;37m     ^\u001b[0m\n\u001b[1;31mSyntaxError\u001b[0m\u001b[1;31m:\u001b[0m invalid syntax\n"
     ]
    }
   ],
   "source": [
    "9f='9f'"
   ]
  },
  {
   "cell_type": "code",
   "execution_count": null,
   "id": "9580c8ed",
   "metadata": {},
   "outputs": [],
   "source": []
  },
  {
   "cell_type": "code",
   "execution_count": null,
   "id": "78fb75d4",
   "metadata": {},
   "outputs": [],
   "source": [
    "-de=12"
   ]
  },
  {
   "cell_type": "code",
   "execution_count": 1,
   "id": "aa0b1bd3",
   "metadata": {},
   "outputs": [
    {
     "ename": "NameError",
     "evalue": "name 'false' is not defined",
     "output_type": "error",
     "traceback": [
      "\u001b[1;31m---------------------------------------------------------------------------\u001b[0m",
      "\u001b[1;31mNameError\u001b[0m                                 Traceback (most recent call last)",
      "\u001b[1;32m<ipython-input-1-312aad34da33>\u001b[0m in \u001b[0;36m<module>\u001b[1;34m\u001b[0m\n\u001b[1;32m----> 1\u001b[1;33m \u001b[0mprint\u001b[0m \u001b[1;33m(\u001b[0m\u001b[1;33m[\u001b[0m\u001b[1;33m]\u001b[0m \u001b[1;32mor\u001b[0m \u001b[0mfalse\u001b[0m\u001b[1;33m)\u001b[0m\u001b[1;33m\u001b[0m\u001b[1;33m\u001b[0m\u001b[0m\n\u001b[0m\u001b[0;32m      2\u001b[0m \u001b[0mprint\u001b[0m \u001b[1;33m(\u001b[0m\u001b[0mfalse\u001b[0m \u001b[1;32mor\u001b[0m \u001b[1;34m'hello'\u001b[0m\u001b[1;33m)\u001b[0m\u001b[1;33m\u001b[0m\u001b[1;33m\u001b[0m\u001b[0m\n\u001b[0;32m      3\u001b[0m \u001b[0mprint\u001b[0m\u001b[1;33m(\u001b[0m\u001b[1;36m2.5\u001b[0m \u001b[1;32mor\u001b[0m \u001b[0mfalse\u001b[0m\u001b[1;33m)\u001b[0m\u001b[1;33m\u001b[0m\u001b[1;33m\u001b[0m\u001b[0m\n",
      "\u001b[1;31mNameError\u001b[0m: name 'false' is not defined"
     ]
    }
   ],
   "source": [
    "\n",
    "print ([] or false)\n",
    "print (false or 'hello')\n",
    "print(2.5 or false)"
   ]
  },
  {
   "cell_type": "code",
   "execution_count": 13,
   "id": "c381663b",
   "metadata": {},
   "outputs": [
    {
     "data": {
      "text/plain": [
       "'htipaydiv tarajug'"
      ]
     },
     "execution_count": 13,
     "metadata": {},
     "output_type": "execute_result"
    }
   ],
   "source": [
    "un= 'gujarat vidyapith'\n",
    "#un[0]\n",
    "#un[0:3]\n",
    "#un[3:]\n",
    "#un[-1]\n",
    "#un[-14:]\n",
    "#un[-1:]\n",
    "#un[12:-2]\n",
    "#un[2:-12]\n",
    "#un[1:5]\n",
    "#un[1:5:2]\n",
    "#un[::2]\n",
    "un[::-1]"
   ]
  },
  {
   "cell_type": "code",
   "execution_count": 22,
   "id": "839a1c92",
   "metadata": {},
   "outputs": [
    {
     "ename": "AttributeError",
     "evalue": "'str' object has no attribute 'replase'",
     "output_type": "error",
     "traceback": [
      "\u001b[1;31m---------------------------------------------------------------------------\u001b[0m",
      "\u001b[1;31mAttributeError\u001b[0m                            Traceback (most recent call last)",
      "\u001b[1;32m<ipython-input-22-7d02ad4f2118>\u001b[0m in \u001b[0;36m<module>\u001b[1;34m\u001b[0m\n\u001b[0;32m      4\u001b[0m \u001b[1;31m#un.index('vid')\u001b[0m\u001b[1;33m\u001b[0m\u001b[1;33m\u001b[0m\u001b[1;33m\u001b[0m\u001b[0m\n\u001b[0;32m      5\u001b[0m \u001b[0ms\u001b[0m\u001b[1;33m=\u001b[0m\u001b[1;34m'replase'\u001b[0m\u001b[1;33m\u001b[0m\u001b[1;33m\u001b[0m\u001b[0m\n\u001b[1;32m----> 6\u001b[1;33m \u001b[0ms\u001b[0m\u001b[1;33m.\u001b[0m\u001b[0mreplase\u001b[0m\u001b[1;33m(\u001b[0m\u001b[1;34m's'\u001b[0m\u001b[1;33m,\u001b[0m\u001b[1;34m'c'\u001b[0m\u001b[1;33m)\u001b[0m\u001b[1;33m\u001b[0m\u001b[1;33m\u001b[0m\u001b[0m\n\u001b[0m\u001b[0;32m      7\u001b[0m \u001b[0ms\u001b[0m\u001b[1;33m\u001b[0m\u001b[1;33m\u001b[0m\u001b[0m\n\u001b[0;32m      8\u001b[0m \u001b[0ms\u001b[0m\u001b[1;33m.\u001b[0m\u001b[0mupper\u001b[0m\u001b[1;33m(\u001b[0m\u001b[1;33m)\u001b[0m\u001b[1;33m\u001b[0m\u001b[1;33m\u001b[0m\u001b[0m\n",
      "\u001b[1;31mAttributeError\u001b[0m: 'str' object has no attribute 'replase'"
     ]
    }
   ],
   "source": [
    "#un.upper()\n",
    "#un.lower()\n",
    "#un.count('d')\n",
    "#un.index('vid')\n",
    "s='replase'\n",
    "s.replase('s','c')\n",
    "s\n",
    "s.upper()\n"
   ]
  },
  {
   "cell_type": "code",
   "execution_count": 23,
   "id": "75e5ea99",
   "metadata": {},
   "outputs": [
    {
     "data": {
      "text/plain": [
       "['gujarat', 'vidyapith']"
      ]
     },
     "execution_count": 23,
     "metadata": {},
     "output_type": "execute_result"
    }
   ],
   "source": [
    "un.split()"
   ]
  },
  {
   "cell_type": "code",
   "execution_count": 27,
   "id": "d8b48210",
   "metadata": {},
   "outputs": [
    {
     "data": {
      "text/plain": [
       "'a b'"
      ]
     },
     "execution_count": 27,
     "metadata": {},
     "output_type": "execute_result"
    }
   ],
   "source": [
    "\"{} {}\".format(\"a\", \"b\")"
   ]
  },
  {
   "cell_type": "code",
   "execution_count": 26,
   "id": "2da733fb",
   "metadata": {},
   "outputs": [
    {
     "name": "stdout",
     "output_type": "stream",
     "text": [
      "9ab 2\n"
     ]
    }
   ],
   "source": [
    "print (\"{} {}\".format(\"9ab\", 2))"
   ]
  },
  {
   "cell_type": "code",
   "execution_count": 28,
   "id": "6becfd47",
   "metadata": {},
   "outputs": [
    {
     "name": "stdout",
     "output_type": "stream",
     "text": [
      "  9ab 2\n"
     ]
    }
   ],
   "source": [
    "print (\"{:>5} {}\".format(\"9ab\", 2))"
   ]
  },
  {
   "cell_type": "code",
   "execution_count": 31,
   "id": "0312b01b",
   "metadata": {},
   "outputs": [
    {
     "name": "stdout",
     "output_type": "stream",
     "text": [
      " 3.14\n"
     ]
    }
   ],
   "source": [
    "pi=3.1416\n",
    "print(\"{:5.2f}\".format(pi))"
   ]
  },
  {
   "cell_type": "code",
   "execution_count": 32,
   "id": "a8181d3d",
   "metadata": {},
   "outputs": [
    {
     "name": "stdout",
     "output_type": "stream",
     "text": [
      "  3.1416  \n"
     ]
    }
   ],
   "source": [
    "print(\"{:^10.4f}\".format(pi))"
   ]
  },
  {
   "cell_type": "code",
   "execution_count": 36,
   "id": "5d4a7795",
   "metadata": {},
   "outputs": [
    {
     "data": {
      "text/plain": [
       "12"
      ]
     },
     "execution_count": 36,
     "metadata": {},
     "output_type": "execute_result"
    }
   ],
   "source": [
    "i= float(\"10\")\n",
    "i= int(12.23)\n",
    "i\n",
    "#type(i)"
   ]
  },
  {
   "cell_type": "code",
   "execution_count": null,
   "id": "152bc3fb",
   "metadata": {},
   "outputs": [],
   "source": []
  },
  {
   "cell_type": "code",
   "execution_count": null,
   "id": "1c7f065f",
   "metadata": {},
   "outputs": [],
   "source": []
  }
 ],
 "metadata": {
  "kernelspec": {
   "display_name": "Python 3",
   "language": "python",
   "name": "python3"
  },
  "language_info": {
   "codemirror_mode": {
    "name": "ipython",
    "version": 3
   },
   "file_extension": ".py",
   "mimetype": "text/x-python",
   "name": "python",
   "nbconvert_exporter": "python",
   "pygments_lexer": "ipython3",
   "version": "3.8.9"
  }
 },
 "nbformat": 4,
 "nbformat_minor": 5
}
